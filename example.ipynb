{
 "cells": [
  {
   "cell_type": "code",
   "execution_count": null,
   "metadata": {
    "collapsed": false
   },
   "outputs": [],
   "source": [
    "from rdflib import Graph, RDF, RDFS, Namespace\n",
    "from RDFClosure import DeductiveClosure, RDFS_Semantics\n",
    "\n",
    "g = Graph()\n",
    "\n",
    "EX = Namespace('http://example.com/sw2016/')\n",
    "g.bind('ex',EX)\n",
    "\n",
    "\n",
    "\n",
    "def infer():\n",
    "    DeductiveClosure(RDFS_Semantics, rdfs_closure = True, axiomatic_triples = False, datatype_axioms = False).expand(g)\n",
    "\n",
    "def serialize():\n",
    "    print g.serialize(format='turtle')\n",
    "\n",
    "def save(filename):\n",
    "    with open(filename, 'w') as f:\n",
    "        g.serialize(f, format='turtle')\n",
    "        \n",
    "def load(filename):\n",
    "    with open(filename, 'r') as f:\n",
    "        g.load(f, format='turtle')"
   ]
  },
  {
   "cell_type": "code",
   "execution_count": null,
   "metadata": {
    "collapsed": true
   },
   "outputs": [],
   "source": [
    "load('example-live.ttl')"
   ]
  },
  {
   "cell_type": "code",
   "execution_count": null,
   "metadata": {
    "collapsed": false
   },
   "outputs": [],
   "source": [
    "serialize()"
   ]
  },
  {
   "cell_type": "code",
   "execution_count": null,
   "metadata": {
    "collapsed": false
   },
   "outputs": [],
   "source": [
    "infer()"
   ]
  },
  {
   "cell_type": "code",
   "execution_count": null,
   "metadata": {
    "collapsed": false
   },
   "outputs": [],
   "source": [
    "serialize()"
   ]
  },
  {
   "cell_type": "code",
   "execution_count": null,
   "metadata": {
    "collapsed": false
   },
   "outputs": [],
   "source": [
    "query = \"\"\"\n",
    "PREFIX ex: <http://example.com/sw2016/> \n",
    "\n",
    "SELECT DISTINCT ?anything ?z ?zl WHERE {\n",
    "    ?anything ex:locatedIn ?z .\n",
    "    OPTIONAL { ?z        rdfs:label   ?zl . FILTER(lang(?zl) = 'nl') }\n",
    "    \n",
    "}\n",
    "\n",
    "\"\"\"\n",
    "results = g.query(query)\n",
    "\n",
    "for r in results:\n",
    "    print r['anything'], r['z'], r['zl']\n",
    "    #print r"
   ]
  },
  {
   "cell_type": "code",
   "execution_count": null,
   "metadata": {
    "collapsed": true
   },
   "outputs": [],
   "source": []
  }
 ],
 "metadata": {
  "kernelspec": {
   "display_name": "Python 2",
   "language": "python",
   "name": "python2"
  },
  "language_info": {
   "codemirror_mode": {
    "name": "ipython",
    "version": 2
   },
   "file_extension": ".py",
   "mimetype": "text/x-python",
   "name": "python",
   "nbconvert_exporter": "python",
   "pygments_lexer": "ipython2",
   "version": "2.7.12"
  }
 },
 "nbformat": 4,
 "nbformat_minor": 0
}
